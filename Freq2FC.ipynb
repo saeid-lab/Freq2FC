{
 "cells": [
  {
   "cell_type": "code",
   "execution_count": 2,
   "metadata": {},
   "outputs": [],
   "source": [
    "from math import *\n",
    "from scipy.constants import c,Avogadro"
   ]
  },
  {
   "cell_type": "code",
   "execution_count": 3,
   "metadata": {},
   "outputs": [],
   "source": [
    "def freq(m1,m2,K):\n",
    "    \"\"\"\n",
    "    m1,m2 are atomic mass in AMU\n",
    "    K is force constant in erg/cm2\n",
    "    1 N/m = 1000 erg/cm2\n",
    "    \"\"\"\n",
    "    rm   = (m1 * m2) / (m1 + m2) # in AMU\n",
    "    N_rm = rm * 1.66e-24          # in gr\n",
    "    freq = sqrt(K/N_rm) / (2*pi*c*100) \n",
    "    \n",
    "    print(freq,'in cm-1')                      # freq in cm-1\n",
    "    print(freq * 2.99793e10,'in Hz')           # freq in Hz\n",
    "    print((freq * 2.99793e10)/1e12,'in Thz' )  # freq in Thz"
   ]
  },
  {
   "cell_type": "code",
   "execution_count": 4,
   "metadata": {},
   "outputs": [],
   "source": [
    "def f_cons(m1,m2,freq):\n",
    "    \"\"\"\n",
    "    m1,m2 are atomic mass in AMU\n",
    "    freq in cm-1\n",
    "    K is force constant in erg/cm2\n",
    "    1 N/m = 1000 erg/cm2\n",
    "    \"\"\"\n",
    "    rm    = (m1 * m2) / (m1 + m2) # in AMU\n",
    "    N_rm  = rm * 1.66e-24          # in gr\n",
    "    sqr_K = sqrt(N_rm) * freq * 2* pi * c * 100\n",
    "    K     = sqr_K**2\n",
    "    \n",
    "    print(K ,'in erg/cm2')\n",
    "    print(K/1000 ,'in N/m')"
   ]
  },
  {
   "cell_type": "markdown",
   "metadata": {},
   "source": [
    "## Example:\n",
    "### HCl, 86.6 Thz, 480 N/m"
   ]
  },
  {
   "cell_type": "code",
   "execution_count": 5,
   "metadata": {},
   "outputs": [
    {
     "name": "stdout",
     "output_type": "stream",
     "text": [
      "2895.231075731076 in cm-1\n",
      "86797000988664.66 in Hz\n",
      "86.79700098866465 in Thz\n",
      "479923.38302418153 in erg/cm2\n",
      "479.92338302418153 in N/m\n"
     ]
    }
   ],
   "source": [
    "freq(1,35,480000)\n",
    "f_cons(1,35,2895)"
   ]
  },
  {
   "cell_type": "code",
   "execution_count": 6,
   "metadata": {},
   "outputs": [
    {
     "data": {
      "text/plain": [
       "372396.47049989284"
      ]
     },
     "execution_count": 6,
     "metadata": {},
     "output_type": "execute_result"
    }
   ],
   "source": [
    "(224262.4 * 1e24) / Avogadro"
   ]
  },
  {
   "cell_type": "code",
   "execution_count": 7,
   "metadata": {},
   "outputs": [
    {
     "name": "stdout",
     "output_type": "stream",
     "text": [
      "1026.0741028248003 in cm-1\n",
      "30760983350815.535 in Hz\n",
      "30.760983350815536 in Thz\n"
     ]
    }
   ],
   "source": [
    "freq(12.0107,12.0107,372396)"
   ]
  },
  {
   "cell_type": "code",
   "execution_count": null,
   "metadata": {},
   "outputs": [],
   "source": []
  }
 ],
 "metadata": {
  "kernelspec": {
   "display_name": "Python 3",
   "language": "python",
   "name": "python3"
  },
  "language_info": {
   "codemirror_mode": {
    "name": "ipython",
    "version": 3
   },
   "file_extension": ".py",
   "mimetype": "text/x-python",
   "name": "python",
   "nbconvert_exporter": "python",
   "pygments_lexer": "ipython3",
   "version": "3.7.4"
  }
 },
 "nbformat": 4,
 "nbformat_minor": 2
}
